{
  "cells": [
    {
      "cell_type": "markdown",
      "metadata": {
        "id": "view-in-github",
        "colab_type": "text"
      },
      "source": [
        "<a href=\"https://colab.research.google.com/github/AirbnbEcoPlus/GoogleColabUtils/blob/main/StableDiffusionPro.ipynb\" target=\"_parent\"><img src=\"https://colab.research.google.com/assets/colab-badge.svg\" alt=\"Open In Colab\"/></a>"
      ]
    },
    {
      "cell_type": "code",
      "execution_count": null,
      "metadata": {
        "id": "sBbcB4vwj_jm"
      },
      "outputs": [],
      "source": [
        "# Try this memory fix if we experiencing constant disconnect from colab server\n",
        "#!curl -Lo memfix.zip https://github.com/nolanaatama/microsoftexcel/raw/main/memfix.zip\n",
        "#!unzip /content/memfix.zip\n",
        "#!apt install -qq libunwind8-dev\n",
        "#!apt install -qq libcairo2-dev pkg-config python3-dev\n",
        "#!dpkg -i *.deb\n",
        "#%env LD_PRELOAD=libtcmalloc.so\n",
        "#!rm *\n",
        "\n",
        "!curl -Lo microsoftexcel.zip https://huggingface.co/nolanaatama/colab/resolve/main/microsoftexcel140.zip\n",
        "!unzip /content/microsoftexcel.zip\n",
        "\n",
        "# Extensions Section\n",
        "!git clone https://github.com/nolanaatama/microsoftexcel-tunnels /content/microsoftexcel/extensions/microsoftexcel-tunnels\n",
        "!git clone https://github.com/nolanaatama/microsoftexcel-controlnet /content/microsoftexcel/extensions/microsoftexcel-controlnet\n",
        "!git clone https://github.com/fkunn1326/openpose-editor /content/microsoftexcel/extensions/openpose-editor\n",
        "!git clone https://github.com/nolanaatama/microsoftexcel-3d-open-pose-editor /content/microsoftexcel/extensions/microsoftexcel-3d-open-pose-editor\n",
        "!git clone https://github.com/nolanaatama/a1111-microsoftexcel-tagcomplete /content/microsoftexcel/extensions/a1111-microsoftexcel-tagcomplete\n",
        "!git clone https://github.com/nolanaatama/a1111-microsoftexcel-locon /content/microsoftexcel/extensions/a1111-microsoftexcel-locon\n",
        "# Additional Extensions\n",
        "# !After Detailer\n",
        "#!git clone https://github.com/Bing-su/adetailer /content/microsoftexcel/extensions/adetailer\n",
        "#!git clone https://huggingface.co/Bingsu/adetailer /content/microsoftexcel/models/adetailer\n",
        "# Deforum\n",
        "#!git clone https://github.com/nolanaatama/microsoftexcel-deforum /content/microsoftexcel/extensions/microsoftexcel-deforum\n",
        "# Mov2mov\n",
        "#!git clone https://github.com/nolanaatama/microsoftexcel-mov2mov /content/microsoftexcel/extensions/microsoftexcel-mov2mov\n",
        "# roop\n",
        "#!git clone https://github.com/nolanaatama/microsoftexcel-roop /content/microsoftexcel/extensions/microsoftexcel-roop\n",
        "# SuperMerger\n",
        "#!git clone https://github.com/nolanaatama/microsoftexcel-supermerger /content/microsoftexcel/extensions/microsoftexcel-supermerger\n",
        "# TemporalKit\n",
        "#!git clone https://github.com/CiaraStrawberry/TemporalKit /content/microsoftexcel/extensions/TemporalKit\n",
        "# Ultimate SD Upscale\n",
        "!git clone https://github.com/Coyote-A/ultimate-upscale-for-automatic1111 /content/microsoftexcel/extensions/ultimate-upscale-for-automatic1111 /content/microsoftexcel/extensions/ultimate-upscale-for-automatic1111\n",
        "\n",
        "!mkdir /content/microsoftexcel/models/ESRGAN\n",
        "!curl -Lo /content/microsoftexcel/extensions/microsoftexcel-images-browser.zip https://huggingface.co/nolanaatama/colab/resolve/main/microsoftexcel-images-browser.zip\n",
        "!curl -Lo /content/microsoftexcel/embeddings/embeddings.zip https://huggingface.co/nolanaatama/colab/resolve/main/embeddings.zip\n",
        "!curl -Lo /content/microsoftexcel/models/ESRGAN/upscalers.zip https://huggingface.co/nolanaatama/colab/resolve/main/upscalers.zip\n",
        "%cd /content/microsoftexcel/extensions\n",
        "!unzip /content/microsoftexcel/extensions/microsoftexcel-images-browser.zip\n",
        "%cd /content/microsoftexcel/embeddings\n",
        "!unzip /content/microsoftexcel/embeddings/embeddings.zip\n",
        "%cd /content/microsoftexcel/models/ESRGAN\n",
        "!unzip /content/microsoftexcel/models/ESRGAN/upscalers.zip\n",
        "!rm upscalers.zip\n",
        "%cd /content\n",
        "\n",
        "# Model Code\n",
        "\n",
        "# ControlNet\n",
        "# Remove '#' from the beginning of the line(s) below to download the selected ControlNet model(s)\n",
        "#!curl -Lo /content/microsoftexcel/extensions/microsoftexcel-controlnet/models/control_v11e_sd15_ip2p.safetensors https://huggingface.co/nolanaatama/models/resolve/main/control_v11e_sd15_ip2p_fp16.safetensors\n",
        "#!curl -Lo /content/microsoftexcel/extensions/microsoftexcel-controlnet/models/control_v11e_sd15_shuffle.safetensors https://huggingface.co/nolanaatama/models/resolve/main/control_v11e_sd15_shuffle_fp16.safetensors\n",
        "#!curl -Lo /content/microsoftexcel/extensions/microsoftexcel-controlnet/models/control_v11p_sd15_canny.safetensors https://huggingface.co/nolanaatama/models/resolve/main/control_v11p_sd15_canny_fp16.safetensors\n",
        "#!curl -Lo /content/microsoftexcel/extensions/microsoftexcel-controlnet/models/control_v11f1p_sd15_depth.safetensors https://huggingface.co/nolanaatama/models/resolve/main/control_v11p_sd15_depth_fp16.safetensors\n",
        "#!curl -Lo /content/microsoftexcel/extensions/microsoftexcel-controlnet/models/control_v11p_sd15_inpaint.safetensors https://huggingface.co/nolanaatama/models/resolve/main/control_v11p_sd15_inpaint_fp16.safetensors\n",
        "#!curl -Lo /content/microsoftexcel/extensions/microsoftexcel-controlnet/models/control_v11p_sd15_lineart.safetensors https://huggingface.co/nolanaatama/models/resolve/main/control_v11p_sd15_lineart_fp16.safetensors\n",
        "#!curl -Lo /content/microsoftexcel/extensions/microsoftexcel-controlnet/models/control_v11p_sd15_mlsd.safetensors https://huggingface.co/nolanaatama/models/resolve/main/control_v11p_sd15_mlsd_fp16.safetensors\n",
        "#!curl -Lo /content/microsoftexcel/extensions/microsoftexcel-controlnet/models/control_v11p_sd15_normalbae.safetensors https://huggingface.co/nolanaatama/models/resolve/main/control_v11p_sd15_normalbae_fp16.safetensors\n",
        "#!curl -Lo /content/microsoftexcel/extensions/microsoftexcel-controlnet/models/control_v11p_sd15_openpose.safetensors https://huggingface.co/nolanaatama/models/resolve/main/control_v11p_sd15_openpose_fp16.safetensors\n",
        "#!curl -Lo /content/microsoftexcel/extensions/microsoftexcel-controlnet/models/control_v11p_sd15_scribble.safetensors https://huggingface.co/nolanaatama/models/resolve/main/control_v11p_sd15_scribble_fp16.safetensors\n",
        "#!curl -Lo /content/microsoftexcel/extensions/microsoftexcel-controlnet/models/control_v11p_sd15_seg.safetensors https://huggingface.co/nolanaatama/models/resolve/main/control_v11p_sd15_seg_fp16.safetensors\n",
        "#!curl -Lo /content/microsoftexcel/extensions/microsoftexcel-controlnet/models/control_v11p_sd15_softedge.safetensors https://huggingface.co/nolanaatama/models/resolve/main/control_v11p_sd15_softedge_fp16.safetensors\n",
        "#!curl -Lo /content/microsoftexcel/extensions/microsoftexcel-controlnet/models/control_v11p_sd15s2_lineart_anime.safetensors https://huggingface.co/nolanaatama/models/resolve/main/control_v11p_sd15s2_lineart_anime_fp16.safetensors\n",
        "#!curl -Lo /content/microsoftexcel/extensions/microsoftexcel-controlnet/models/control_v11f1e_sd15_tile.safetensors https://huggingface.co/nolanaatama/models/resolve/main/control_v11f1e_sd15_tile_fp16.safetensors\n",
        "#!curl -Lo /content/microsoftexcel/extensions/microsoftexcel-controlnet/models/t2iadapter_canny_sd14v1.pth https://huggingface.co/nolanaatama/models/resolve/main/t2iadapter_canny_sd14v1.pth\n",
        "#!curl -Lo /content/microsoftexcel/extensions/microsoftexcel-controlnet/models/t2iadapter_color_sd14v1.pth https://huggingface.co/nolanaatama/models/resolve/main/t2iadapter_color_sd14v1.pth\n",
        "#!curl -Lo /content/microsoftexcel/extensions/microsoftexcel-controlnet/models/t2iadapter_depth_sd14v1.pth https://huggingface.co/nolanaatama/models/resolve/main/t2iadapter_depth_sd14v1.pth\n",
        "#!curl -Lo /content/microsoftexcel/extensions/microsoftexcel-controlnet/models/t2iadapter_keypose_sd14v1.pth https://huggingface.co/nolanaatama/models/resolve/main/t2iadapter_keypose_sd14v1.pth\n",
        "#!curl -Lo /content/microsoftexcel/extensions/microsoftexcel-controlnet/models/t2iadapter_openpose_sd14v1.pth https://huggingface.co/nolanaatama/models/resolve/main/t2iadapter_openpose_sd14v1.pth\n",
        "#!curl -Lo /content/microsoftexcel/extensions/microsoftexcel-controlnet/models/t2iadapter_seg_sd14v1.pth https://huggingface.co/nolanaatama/models/resolve/main/t2iadapter_seg_sd14v1.pth\n",
        "#!curl -Lo /content/microsoftexcel/extensions/microsoftexcel-controlnet/models/t2iadapter_sketch_sd14v1.pth https://huggingface.co/nolanaatama/models/resolve/main/t2iadapter_sketch_sd14v1.pth\n",
        "#!curl -Lo /content/microsoftexcel/extensions/microsoftexcel-controlnet/models/t2iadapter_style_sd14v1.pth https://huggingface.co/nolanaatama/models/resolve/main/t2iadapter_style_sd14v1.pth\n",
        "!rm microsoftexcel.zip\n",
        "%cd /content/microsoftexcel\n",
        "\n",
        "# Web UI tunnel\n",
        "#!COMMANDLINE_ARGS=\"--share --disable-safe-unpickle --no-half-vae --xformers --enable-insecure-extension --gradio-queue\" REQS_FILE=\"requirements.txt\" python launch.py\n",
        "# Use this command below to use cloudflare tunnel\n",
        "#!COMMANDLINE_ARGS=\"--disable-safe-unpickle --no-half-vae --xformers --enable-insecure-extension --gradio-queue --cloudflared\" REQS_FILE=\"requirements.txt\" python launch.py"
      ]
    },
    {
      "cell_type": "markdown",
      "metadata": {
        "id": "TezIE2XxnuG8"
      },
      "source": [
        "# CheckPoints"
      ]
    },
    {
      "cell_type": "markdown",
      "metadata": {
        "id": "pLA_3kMPw4Cd"
      },
      "source": [
        "### DreamShaper\n",
        "<img src=\"https://image.civitai.com/xG1nkqKTMzGDvpLrqFT7WA/a78a4bd3-b662-4587-893b-207a3abf9ec9/width=1120/01576-132340236-8k%20portrait%20of%20beautiful%20cyborg%20with%20brown%20hair,%20intricate,%20elegant,%20highly%20detailed,%20majestic,%20digital%20photography,%20art%20by%20artg.jpeg\" height=\"245\">"
      ]
    },
    {
      "cell_type": "code",
      "execution_count": null,
      "metadata": {
        "id": "6OMuitNOl0dM"
      },
      "outputs": [],
      "source": [
        "!curl -Lo /content/microsoftexcel/models/Stable-diffusion/DreamShaper.safetensors https://civitai.com/api/download/models/109123"
      ]
    },
    {
      "cell_type": "markdown",
      "metadata": {
        "id": "g6KBESoTxdzo"
      },
      "source": [
        "### DarkSushiMix\n",
        "<img src=\"https://image.civitai.com/xG1nkqKTMzGDvpLrqFT7WA/bd680fa6-0263-4f0b-9555-9eb2a89c8652/width=1152/18195-768156501-1girl,%20teddy%20bear,%20baseball%20cap,%20hat,%20solo,%20stuffed%20animal,%20stuffed%20toy,%20smile,%20long%20hair,%20hood%20down,%20jacket,%20hood,%20headphones,.jpeg\" height=\"245\">"
      ]
    },
    {
      "cell_type": "code",
      "execution_count": null,
      "metadata": {
        "id": "VzlNnhn1mCqv"
      },
      "outputs": [],
      "source": [
        "!curl -Lo /content/microsoftexcel/models/Stable-diffusion/DarkSushiMix.safetensors https://civitai.com/api/download/models/93208"
      ]
    },
    {
      "cell_type": "markdown",
      "metadata": {
        "id": "3RO4VO8sx6q3"
      },
      "source": [
        "### GhostMix\n",
        "<img src=\"https://image.civitai.com/xG1nkqKTMzGDvpLrqFT7WA/f122edf7-e530-4d9d-86d0-2ed559946847/width=450/2%20(2).jpeg\" height=\"245\">"
      ]
    },
    {
      "cell_type": "code",
      "execution_count": null,
      "metadata": {
        "id": "4raHoweBmDNt"
      },
      "outputs": [],
      "source": [
        "!curl -Lo /content/microsoftexcel/models/Stable-diffusion/GhostMix.safetensors https://civitai.com/api/download/models/76907"
      ]
    },
    {
      "cell_type": "markdown",
      "metadata": {
        "id": "W2ipRfJ0yMPf"
      },
      "source": [
        "### EpicRealism\n",
        "<img src=\"https://image.civitai.com/xG1nkqKTMzGDvpLrqFT7WA/c0fdc100-4ba7-4876-8e2e-603f1e90d787/width=450/02226-709234657-RAW%20Photo,%20DSLR%20BREAK_(kkw-ph1_0.9)%20BREAK_half%20body%20portrait%20of%20a%20young%2020yo%20woman,%20black%20hair,%20wearing%20a%20summer%20dress%20BREAK_det.jpeg\" height=\"245\">"
      ]
    },
    {
      "cell_type": "code",
      "execution_count": null,
      "metadata": {
        "id": "5CfuklSQmDbi"
      },
      "outputs": [],
      "source": [
        "!curl -Lo /content/microsoftexcel/models/Stable-diffusion/EpicRealism.safetensors https://civitai.com/api/download/models/105035"
      ]
    },
    {
      "cell_type": "markdown",
      "metadata": {
        "id": "TyLqFoc8ynG3"
      },
      "source": [
        "### AbsoluteReality\n",
        "<img src=\"https://image.civitai.com/xG1nkqKTMzGDvpLrqFT7WA/1efe7ff7-e16b-4283-b20e-0d99f3597d1b/width=450/01057-5775692-(masterpiece),%20(extremely%20intricate_1.3),%20(realistic),%20portrait%20of%20a%20girl,%20the%20most%20beautiful%20in%20the%20world,%20(medieval%20armor),%20me.jpeg\" height=\"245\">"
      ]
    },
    {
      "cell_type": "code",
      "execution_count": null,
      "metadata": {
        "id": "OKY_f-b7mDyQ"
      },
      "outputs": [],
      "source": [
        "!curl -Lo /content/microsoftexcel/models/Stable-diffusion/AbsoluteReality.safetensors https://civitai.com/api/download/models/108576"
      ]
    },
    {
      "cell_type": "markdown",
      "metadata": {
        "id": "OgNL1pQXy6YV"
      },
      "source": [
        "### RpgTools\n",
        "<img src=\"https://image.civitai.com/xG1nkqKTMzGDvpLrqFT7WA/b645364e-937d-4e3c-b9b4-eeea02652b87/width=450/preview1.jpeg\" height=\"245\">\n"
      ]
    },
    {
      "cell_type": "code",
      "execution_count": null,
      "metadata": {
        "id": "f2ciytZKmTGy"
      },
      "outputs": [],
      "source": [
        "!curl -Lo /content/microsoftexcel/models/Stable-diffusion/RpgTools.safetensors https://civitai.com/api/download/models/79290"
      ]
    },
    {
      "cell_type": "markdown",
      "metadata": {
        "id": "ti72ghh7zXgJ"
      },
      "source": [
        "### ToonYou\n",
        "<img src=\"https://image.civitai.com/xG1nkqKTMzGDvpLrqFT7WA/ccba27c3-96c2-4533-a2f0-9d7d9e9a2f96/width=450/00207-3460582248-(masterpiece,%20best%20quality),%201girl,%20blonde,%20freckles,%20crop%20top,%20choker,%20looking%20at%20viewer,%20upper%20body,%20blurry,%20earrings,%20street,.jpeg\" height=\"245\">"
      ]
    },
    {
      "cell_type": "code",
      "execution_count": null,
      "metadata": {
        "id": "yZlDH8yRzaN2"
      },
      "outputs": [],
      "source": [
        "!curl -Lo /content/microsoftexcel/models/Stable-diffusion/ToonYou.safetensors https://civitai.com/api/download/models/102996"
      ]
    },
    {
      "cell_type": "markdown",
      "metadata": {
        "id": "0DwYF_aLUXKy"
      },
      "source": [
        "# (OPTIONAL) LoRAs"
      ]
    },
    {
      "cell_type": "markdown",
      "metadata": {
        "id": "xy_WyDzNUgd2"
      },
      "source": [
        "### Create dir"
      ]
    },
    {
      "cell_type": "code",
      "execution_count": null,
      "metadata": {
        "id": "3EOPSiOgUs4z"
      },
      "outputs": [],
      "source": [
        "!mkdir /content/microsoftexcel/models/Lora/"
      ]
    },
    {
      "cell_type": "markdown",
      "metadata": {
        "id": "GZFk-wsI2YPt"
      },
      "source": [
        "### Belle Delphine\n",
        "<img src=\"https://image.civitai.com/xG1nkqKTMzGDvpLrqFT7WA/3ee38e2f-3a27-4a5d-28c0-414e372d3500/width=450/22192-1097490058-pink%20hair,%20portrait%20shot%20of%20a%20woman%20_lora_DI_belle_delphine_v1_1.0_.jpeg\" height=\"245\">"
      ]
    },
    {
      "cell_type": "code",
      "execution_count": null,
      "metadata": {
        "id": "9LHBLgvn0nXj"
      },
      "outputs": [],
      "source": [
        "!curl -Lo /content/microsoftexcel/models/Lora/belledelphine.safetensors https://civitai.com/api/download/models/44242"
      ]
    },
    {
      "cell_type": "markdown",
      "metadata": {
        "id": "irJ4bK9J2cjW"
      },
      "source": [
        "### 3dRendering Style\n",
        "<img src=\"https://image.civitai.com/xG1nkqKTMzGDvpLrqFT7WA/0038e0a9-7543-482b-93bd-e855d2389028/width=450/00008-2987955084.jpeg\" height=\"245\">"
      ]
    },
    {
      "cell_type": "code",
      "execution_count": null,
      "metadata": {
        "id": "JRDj9oTw2cjX"
      },
      "outputs": [],
      "source": [
        "!curl -Lo /content/microsoftexcel/models/Lora/threeDRendering.safetensors https://civitai.com/api/download/models/107366"
      ]
    },
    {
      "cell_type": "markdown",
      "metadata": {
        "id": "uTfH9ORV2dGC"
      },
      "source": [
        "### Giga Chad\n",
        "<img src=\"https://image.civitai.com/xG1nkqKTMzGDvpLrqFT7WA/faec07b5-b8e2-4f52-b227-3be1158a727b/width=450/123123143554382-3163241797-RAW%20photo,%20(close%20up%20photo_1.2)%20of%20gigachad,%20wearing%20shorts,%20posing%20for%20the%20camera,in%20times%20square,%20(solo_1.1),%208k%20uhd,%20dslr,%20hi.jpeg\" height=\"245\">"
      ]
    },
    {
      "cell_type": "code",
      "execution_count": null,
      "metadata": {
        "id": "DlGyZQwN2dGD"
      },
      "outputs": [],
      "source": [
        "!curl -Lo /content/microsoftexcel/models/Lora/gigachad.safetensors https://civitai.com/api/download/models/21518"
      ]
    },
    {
      "cell_type": "markdown",
      "metadata": {
        "id": "xvZ5s4ROQWOy"
      },
      "source": [
        "# Utils"
      ]
    },
    {
      "cell_type": "markdown",
      "metadata": {
        "id": "eJnb9ZELQe7X"
      },
      "source": [
        "Launch just the web ui"
      ]
    },
    {
      "cell_type": "code",
      "execution_count": null,
      "metadata": {
        "id": "LWVIj2FFQkCG"
      },
      "outputs": [],
      "source": [
        "!COMMANDLINE_ARGS=\"--share --disable-safe-unpickle --no-half-vae --xformers --enable-insecure-extension --gradio-queue\" REQS_FILE=\"requirements.txt\" python launch.py\n"
      ]
    },
    {
      "cell_type": "markdown",
      "metadata": {
        "id": "fhwIXzcgfkoR"
      },
      "source": [
        "# 🎥 YouTube for more: [AI Marvelverse](https://www.youtube.com/@AIMarvelverse)\n",
        "# 📦 Driver [CLOUD](https://drive.google.com/drive/folders/1z6xvZWrc-gLc0Q6ePnOhI-U-o5mKR-mv?usp=sharing)"
      ]
    }
  ],
  "metadata": {
    "accelerator": "GPU",
    "colab": {
      "provenance": [],
      "include_colab_link": true
    },
    "kernelspec": {
      "display_name": "Python 3",
      "name": "python3"
    },
    "language_info": {
      "name": "python"
    }
  },
  "nbformat": 4,
  "nbformat_minor": 0
}